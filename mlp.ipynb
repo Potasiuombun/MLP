{
 "cells": [
  {
   "cell_type": "code",
   "execution_count": 1,
   "metadata": {},
   "outputs": [],
   "source": [
    "import torch\n",
    "import torch.nn.functional as F\n",
    "import matplotlib.pyplot as plt\n",
    "%matplotlib inline"
   ]
  },
  {
   "cell_type": "code",
   "execution_count": 2,
   "metadata": {},
   "outputs": [
    {
     "data": {
      "text/plain": [
       "['emma', 'olivia', 'ava', 'isabella', 'sophia', 'charlotte', 'mia', 'amelia']"
      ]
     },
     "execution_count": 2,
     "metadata": {},
     "output_type": "execute_result"
    }
   ],
   "source": [
    "words = open('names.txt', 'r').read().splitlines()\n",
    "words[:8]"
   ]
  },
  {
   "cell_type": "code",
   "execution_count": 3,
   "metadata": {},
   "outputs": [
    {
     "data": {
      "text/plain": [
       "32033"
      ]
     },
     "execution_count": 3,
     "metadata": {},
     "output_type": "execute_result"
    }
   ],
   "source": [
    "len(words)"
   ]
  },
  {
   "cell_type": "code",
   "execution_count": 4,
   "metadata": {},
   "outputs": [],
   "source": [
    "chars = sorted(list(set(''.join(words))))"
   ]
  },
  {
   "cell_type": "code",
   "execution_count": 11,
   "metadata": {},
   "outputs": [],
   "source": [
    "stoi = {s:i+1 for i,s in enumerate(chars)}\n",
    "stoi['.'] = 0\n",
    "itos = {i:s for s,i in stoi.items()}"
   ]
  },
  {
   "cell_type": "code",
   "execution_count": 12,
   "metadata": {},
   "outputs": [
    {
     "name": "stdout",
     "output_type": "stream",
     "text": [
      "{1: 'a', 2: 'b', 3: 'c', 4: 'd', 5: 'e', 6: 'f', 7: 'g', 8: 'h', 9: 'i', 10: 'j', 11: 'k', 12: 'l', 13: 'm', 14: 'n', 15: 'o', 16: 'p', 17: 'q', 18: 'r', 19: 's', 20: 't', 21: 'u', 22: 'v', 23: 'w', 24: 'x', 25: 'y', 26: 'z', 0: '.'}\n"
     ]
    }
   ],
   "source": [
    "print(itos)"
   ]
  },
  {
   "cell_type": "code",
   "execution_count": 19,
   "metadata": {},
   "outputs": [
    {
     "name": "stdout",
     "output_type": "stream",
     "text": [
      "emma\n",
      "... ---> e\n",
      "..e ---> m\n",
      ".em ---> m\n",
      "emm ---> a\n",
      "mma ---> .\n",
      "olivia\n",
      "... ---> o\n",
      "..o ---> l\n",
      ".ol ---> i\n",
      "oli ---> v\n",
      "liv ---> i\n",
      "ivi ---> a\n",
      "via ---> .\n",
      "ava\n",
      "... ---> a\n",
      "..a ---> v\n",
      ".av ---> a\n",
      "ava ---> .\n",
      "isabella\n",
      "... ---> i\n",
      "..i ---> s\n",
      ".is ---> a\n",
      "isa ---> b\n",
      "sab ---> e\n",
      "abe ---> l\n",
      "bel ---> l\n",
      "ell ---> a\n",
      "lla ---> .\n",
      "sophia\n",
      "... ---> s\n",
      "..s ---> o\n",
      ".so ---> p\n",
      "sop ---> h\n",
      "oph ---> i\n",
      "phi ---> a\n",
      "hia ---> .\n"
     ]
    }
   ],
   "source": [
    "block_size = 3\n",
    "X, Y = [], []\n",
    "\n",
    "for w in words[:5]:\n",
    "    print(w)\n",
    "    context = [0] * block_size # list of 0s of blocksize\n",
    "    for ch in w + '.':\n",
    "        ix = stoi[ch] # character index\n",
    "        X.append(context)\n",
    "        Y.append(ix) #\n",
    "        print(''.join(itos[i] for i in context), '--->',itos[ix])\n",
    "        context = context[1:] + [ix] # Take the first 2 items i context and add the ix at the end of the list\n",
    "\n",
    "X = torch.tensor(X)\n",
    "Y = torch.tensor(Y)"
   ]
  },
  {
   "cell_type": "code",
   "execution_count": 20,
   "metadata": {},
   "outputs": [
    {
     "data": {
      "text/plain": [
       "(torch.Size([32, 3]), torch.int64, torch.Size([32]), torch.int64)"
      ]
     },
     "execution_count": 20,
     "metadata": {},
     "output_type": "execute_result"
    }
   ],
   "source": [
    "X.shape,X.dtype, Y.shape, Y.dtype"
   ]
  },
  {
   "cell_type": "code",
   "execution_count": 21,
   "metadata": {},
   "outputs": [],
   "source": [
    "C = torch.randn((27,2))"
   ]
  },
  {
   "cell_type": "code",
   "execution_count": 22,
   "metadata": {},
   "outputs": [
    {
     "data": {
      "text/plain": [
       "tensor([[-1.0451,  0.2271],\n",
       "        [-0.4246,  0.5392],\n",
       "        [-0.5737, -0.8957],\n",
       "        [ 1.4986, -0.5988],\n",
       "        [-1.3220,  0.0404],\n",
       "        [-0.2435, -0.5964],\n",
       "        [ 0.6180, -0.9611],\n",
       "        [ 0.6871, -1.3060],\n",
       "        [ 1.3025, -0.3111],\n",
       "        [-0.4725,  0.9513],\n",
       "        [ 1.2088,  0.0408],\n",
       "        [-0.1670,  1.7796],\n",
       "        [ 0.1698,  1.0846],\n",
       "        [-2.4542,  1.6683],\n",
       "        [-0.1402, -0.4956],\n",
       "        [-0.3065,  0.7363],\n",
       "        [ 0.5563, -0.1821],\n",
       "        [-0.1230,  0.1824],\n",
       "        [-0.1040,  0.9632],\n",
       "        [ 0.5984,  0.0641],\n",
       "        [ 1.0266,  0.6260],\n",
       "        [ 0.6885,  0.8778],\n",
       "        [-0.7261,  1.4174],\n",
       "        [ 2.7825, -2.3553],\n",
       "        [ 0.0887,  0.1935],\n",
       "        [-1.1268,  0.3802],\n",
       "        [ 0.6110,  1.1021]])"
      ]
     },
     "execution_count": 22,
     "metadata": {},
     "output_type": "execute_result"
    }
   ],
   "source": [
    "C"
   ]
  },
  {
   "cell_type": "code",
   "execution_count": 23,
   "metadata": {},
   "outputs": [
    {
     "data": {
      "text/plain": [
       "tensor([-0.2435, -0.5964])"
      ]
     },
     "execution_count": 23,
     "metadata": {},
     "output_type": "execute_result"
    }
   ],
   "source": [
    "C[5]"
   ]
  },
  {
   "cell_type": "code",
   "execution_count": 27,
   "metadata": {},
   "outputs": [
    {
     "data": {
      "text/plain": [
       "tensor([-0.2435, -0.5964])"
      ]
     },
     "execution_count": 27,
     "metadata": {},
     "output_type": "execute_result"
    }
   ],
   "source": [
    "F.one_hot(torch.tensor(5),num_classes=27).float() @ C"
   ]
  },
  {
   "cell_type": "code",
   "execution_count": 29,
   "metadata": {},
   "outputs": [
    {
     "data": {
      "text/plain": [
       "tensor([[ 1.4986, -0.5988],\n",
       "        [-1.3220,  0.0404],\n",
       "        [-0.2435, -0.5964]])"
      ]
     },
     "execution_count": 29,
     "metadata": {},
     "output_type": "execute_result"
    }
   ],
   "source": [
    "C[torch.tensor([3,4,5])]"
   ]
  },
  {
   "cell_type": "code",
   "execution_count": 31,
   "metadata": {},
   "outputs": [
    {
     "data": {
      "text/plain": [
       "torch.Size([32, 3, 2])"
      ]
     },
     "execution_count": 31,
     "metadata": {},
     "output_type": "execute_result"
    }
   ],
   "source": [
    "C[X].shape"
   ]
  },
  {
   "cell_type": "code",
   "execution_count": 32,
   "metadata": {},
   "outputs": [
    {
     "data": {
      "text/plain": [
       "tensor(1)"
      ]
     },
     "execution_count": 32,
     "metadata": {},
     "output_type": "execute_result"
    }
   ],
   "source": [
    "X[13,2]"
   ]
  },
  {
   "cell_type": "code",
   "execution_count": 33,
   "metadata": {},
   "outputs": [
    {
     "data": {
      "text/plain": [
       "tensor([-0.4246,  0.5392])"
      ]
     },
     "execution_count": 33,
     "metadata": {},
     "output_type": "execute_result"
    }
   ],
   "source": [
    "C[X][13,2]"
   ]
  },
  {
   "cell_type": "code",
   "execution_count": 34,
   "metadata": {},
   "outputs": [
    {
     "data": {
      "text/plain": [
       "tensor([-0.4246,  0.5392])"
      ]
     },
     "execution_count": 34,
     "metadata": {},
     "output_type": "execute_result"
    }
   ],
   "source": [
    "C[1]"
   ]
  },
  {
   "cell_type": "code",
   "execution_count": 35,
   "metadata": {},
   "outputs": [
    {
     "data": {
      "text/plain": [
       "torch.Size([32, 3, 2])"
      ]
     },
     "execution_count": 35,
     "metadata": {},
     "output_type": "execute_result"
    }
   ],
   "source": [
    "emb = C[X]\n",
    "emb.shape"
   ]
  },
  {
   "cell_type": "code",
   "execution_count": 38,
   "metadata": {},
   "outputs": [],
   "source": [
    "# Hidden layer\n",
    "W1 = torch.randn((6,100)) # input will be emb.shape(x,y,z) ---> y * z, The number of neurons we decide (hyperparameter)\n",
    "b1 = torch.randn(100)"
   ]
  },
  {
   "cell_type": "code",
   "execution_count": 39,
   "metadata": {},
   "outputs": [
    {
     "ename": "RuntimeError",
     "evalue": "mat1 and mat2 shapes cannot be multiplied (96x2 and 6x100)",
     "output_type": "error",
     "traceback": [
      "\u001b[0;31m---------------------------------------------------------------------------\u001b[0m",
      "\u001b[0;31mRuntimeError\u001b[0m                              Traceback (most recent call last)",
      "Cell \u001b[0;32mIn[39], line 1\u001b[0m\n\u001b[0;32m----> 1\u001b[0m \u001b[43memb\u001b[49m\u001b[43m \u001b[49m\u001b[38;5;241;43m@\u001b[39;49m\u001b[43m \u001b[49m\u001b[43mW1\u001b[49m \u001b[38;5;241m+\u001b[39m b1 \u001b[38;5;66;03m# does not work cause emb.shape(32,3,2) while W1 is (6, 100)\u001b[39;00m\n\u001b[1;32m      2\u001b[0m               \u001b[38;5;66;03m# 32, 3, 2 x\u001b[39;00m\n\u001b[1;32m      3\u001b[0m               \u001b[38;5;66;03m#  6, 100\u001b[39;00m\n",
      "\u001b[0;31mRuntimeError\u001b[0m: mat1 and mat2 shapes cannot be multiplied (96x2 and 6x100)"
     ]
    }
   ],
   "source": [
    "emb @ W1 + b1 # does not work cause emb.shape(32,3,2) while W1 is (6, 100)\n",
    "              # 32, 3, 2 x\n",
    "              #  6, 100"
   ]
  },
  {
   "cell_type": "code",
   "execution_count": 41,
   "metadata": {},
   "outputs": [],
   "source": [
    "logits = emb.view(-1,6) @ W1  + b1"
   ]
  },
  {
   "cell_type": "markdown",
   "metadata": {},
   "source": [
    "Multiple ways to change the shape of the embedding"
   ]
  },
  {
   "cell_type": "code",
   "execution_count": 46,
   "metadata": {},
   "outputs": [
    {
     "data": {
      "text/plain": [
       "tensor([[-1.0451,  0.2271, -1.0451,  0.2271, -1.0451,  0.2271],\n",
       "        [-1.0451,  0.2271, -1.0451,  0.2271, -0.2435, -0.5964],\n",
       "        [-1.0451,  0.2271, -0.2435, -0.5964, -2.4542,  1.6683],\n",
       "        [-0.2435, -0.5964, -2.4542,  1.6683, -2.4542,  1.6683],\n",
       "        [-2.4542,  1.6683, -2.4542,  1.6683, -0.4246,  0.5392],\n",
       "        [-1.0451,  0.2271, -1.0451,  0.2271, -1.0451,  0.2271],\n",
       "        [-1.0451,  0.2271, -1.0451,  0.2271, -0.3065,  0.7363],\n",
       "        [-1.0451,  0.2271, -0.3065,  0.7363,  0.1698,  1.0846],\n",
       "        [-0.3065,  0.7363,  0.1698,  1.0846, -0.4725,  0.9513],\n",
       "        [ 0.1698,  1.0846, -0.4725,  0.9513, -0.7261,  1.4174],\n",
       "        [-0.4725,  0.9513, -0.7261,  1.4174, -0.4725,  0.9513],\n",
       "        [-0.7261,  1.4174, -0.4725,  0.9513, -0.4246,  0.5392],\n",
       "        [-1.0451,  0.2271, -1.0451,  0.2271, -1.0451,  0.2271],\n",
       "        [-1.0451,  0.2271, -1.0451,  0.2271, -0.4246,  0.5392],\n",
       "        [-1.0451,  0.2271, -0.4246,  0.5392, -0.7261,  1.4174],\n",
       "        [-0.4246,  0.5392, -0.7261,  1.4174, -0.4246,  0.5392],\n",
       "        [-1.0451,  0.2271, -1.0451,  0.2271, -1.0451,  0.2271],\n",
       "        [-1.0451,  0.2271, -1.0451,  0.2271, -0.4725,  0.9513],\n",
       "        [-1.0451,  0.2271, -0.4725,  0.9513,  0.5984,  0.0641],\n",
       "        [-0.4725,  0.9513,  0.5984,  0.0641, -0.4246,  0.5392],\n",
       "        [ 0.5984,  0.0641, -0.4246,  0.5392, -0.5737, -0.8957],\n",
       "        [-0.4246,  0.5392, -0.5737, -0.8957, -0.2435, -0.5964],\n",
       "        [-0.5737, -0.8957, -0.2435, -0.5964,  0.1698,  1.0846],\n",
       "        [-0.2435, -0.5964,  0.1698,  1.0846,  0.1698,  1.0846],\n",
       "        [ 0.1698,  1.0846,  0.1698,  1.0846, -0.4246,  0.5392],\n",
       "        [-1.0451,  0.2271, -1.0451,  0.2271, -1.0451,  0.2271],\n",
       "        [-1.0451,  0.2271, -1.0451,  0.2271,  0.5984,  0.0641],\n",
       "        [-1.0451,  0.2271,  0.5984,  0.0641, -0.3065,  0.7363],\n",
       "        [ 0.5984,  0.0641, -0.3065,  0.7363,  0.5563, -0.1821],\n",
       "        [-0.3065,  0.7363,  0.5563, -0.1821,  1.3025, -0.3111],\n",
       "        [ 0.5563, -0.1821,  1.3025, -0.3111, -0.4725,  0.9513],\n",
       "        [ 1.3025, -0.3111, -0.4725,  0.9513, -0.4246,  0.5392]])"
      ]
     },
     "execution_count": 46,
     "metadata": {},
     "output_type": "execute_result"
    }
   ],
   "source": [
    "torch.cat([emb[:, 0, :], emb[:, 1, :], emb[:, 2, :]],1) # grab all examples, the [0,1,2] index, all indexes in 3rd dimension"
   ]
  },
  {
   "cell_type": "code",
   "execution_count": 47,
   "metadata": {},
   "outputs": [],
   "source": [
    "view_opt = emb.view(-1,6)\n",
    "cat_opt = torch.cat([emb[:, 0, :], emb[:, 1, :], emb[:, 2, :]],1)"
   ]
  },
  {
   "cell_type": "code",
   "execution_count": 49,
   "metadata": {},
   "outputs": [
    {
     "data": {
      "text/plain": [
       "True"
      ]
     },
     "execution_count": 49,
     "metadata": {},
     "output_type": "execute_result"
    }
   ],
   "source": [
    "torch.equal(view_opt,cat_opt)"
   ]
  },
  {
   "cell_type": "markdown",
   "metadata": {},
   "source": [
    "Not good because if we want to change the block size we will haveto manually do it in the code"
   ]
  },
  {
   "cell_type": "markdown",
   "metadata": {},
   "source": [
    "Instead we should do torch.unbind https://pytorch.org/docs/stable/generated/torch.unbind.html\n",
    "which removes a tensor dimension\n",
    "\n",
    "Returns a tuple of all slices along a given dimension, already without it."
   ]
  },
  {
   "cell_type": "code",
   "execution_count": null,
   "metadata": {},
   "outputs": [],
   "source": [
    "unbind_opt = torch.unbind(emb,1) # Same as the list in cat options"
   ]
  },
  {
   "cell_type": "code",
   "execution_count": 56,
   "metadata": {},
   "outputs": [
    {
     "data": {
      "text/plain": [
       "(tensor([[-1.0451,  0.2271],\n",
       "         [-1.0451,  0.2271],\n",
       "         [-1.0451,  0.2271],\n",
       "         [-0.2435, -0.5964],\n",
       "         [-2.4542,  1.6683],\n",
       "         [-1.0451,  0.2271],\n",
       "         [-1.0451,  0.2271],\n",
       "         [-1.0451,  0.2271],\n",
       "         [-0.3065,  0.7363],\n",
       "         [ 0.1698,  1.0846],\n",
       "         [-0.4725,  0.9513],\n",
       "         [-0.7261,  1.4174],\n",
       "         [-1.0451,  0.2271],\n",
       "         [-1.0451,  0.2271],\n",
       "         [-1.0451,  0.2271],\n",
       "         [-0.4246,  0.5392],\n",
       "         [-1.0451,  0.2271],\n",
       "         [-1.0451,  0.2271],\n",
       "         [-1.0451,  0.2271],\n",
       "         [-0.4725,  0.9513],\n",
       "         [ 0.5984,  0.0641],\n",
       "         [-0.4246,  0.5392],\n",
       "         [-0.5737, -0.8957],\n",
       "         [-0.2435, -0.5964],\n",
       "         [ 0.1698,  1.0846],\n",
       "         [-1.0451,  0.2271],\n",
       "         [-1.0451,  0.2271],\n",
       "         [-1.0451,  0.2271],\n",
       "         [ 0.5984,  0.0641],\n",
       "         [-0.3065,  0.7363],\n",
       "         [ 0.5563, -0.1821],\n",
       "         [ 1.3025, -0.3111]]),\n",
       " tensor([[-1.0451,  0.2271],\n",
       "         [-1.0451,  0.2271],\n",
       "         [-0.2435, -0.5964],\n",
       "         [-2.4542,  1.6683],\n",
       "         [-2.4542,  1.6683],\n",
       "         [-1.0451,  0.2271],\n",
       "         [-1.0451,  0.2271],\n",
       "         [-0.3065,  0.7363],\n",
       "         [ 0.1698,  1.0846],\n",
       "         [-0.4725,  0.9513],\n",
       "         [-0.7261,  1.4174],\n",
       "         [-0.4725,  0.9513],\n",
       "         [-1.0451,  0.2271],\n",
       "         [-1.0451,  0.2271],\n",
       "         [-0.4246,  0.5392],\n",
       "         [-0.7261,  1.4174],\n",
       "         [-1.0451,  0.2271],\n",
       "         [-1.0451,  0.2271],\n",
       "         [-0.4725,  0.9513],\n",
       "         [ 0.5984,  0.0641],\n",
       "         [-0.4246,  0.5392],\n",
       "         [-0.5737, -0.8957],\n",
       "         [-0.2435, -0.5964],\n",
       "         [ 0.1698,  1.0846],\n",
       "         [ 0.1698,  1.0846],\n",
       "         [-1.0451,  0.2271],\n",
       "         [-1.0451,  0.2271],\n",
       "         [ 0.5984,  0.0641],\n",
       "         [-0.3065,  0.7363],\n",
       "         [ 0.5563, -0.1821],\n",
       "         [ 1.3025, -0.3111],\n",
       "         [-0.4725,  0.9513]]),\n",
       " tensor([[-1.0451,  0.2271],\n",
       "         [-0.2435, -0.5964],\n",
       "         [-2.4542,  1.6683],\n",
       "         [-2.4542,  1.6683],\n",
       "         [-0.4246,  0.5392],\n",
       "         [-1.0451,  0.2271],\n",
       "         [-0.3065,  0.7363],\n",
       "         [ 0.1698,  1.0846],\n",
       "         [-0.4725,  0.9513],\n",
       "         [-0.7261,  1.4174],\n",
       "         [-0.4725,  0.9513],\n",
       "         [-0.4246,  0.5392],\n",
       "         [-1.0451,  0.2271],\n",
       "         [-0.4246,  0.5392],\n",
       "         [-0.7261,  1.4174],\n",
       "         [-0.4246,  0.5392],\n",
       "         [-1.0451,  0.2271],\n",
       "         [-0.4725,  0.9513],\n",
       "         [ 0.5984,  0.0641],\n",
       "         [-0.4246,  0.5392],\n",
       "         [-0.5737, -0.8957],\n",
       "         [-0.2435, -0.5964],\n",
       "         [ 0.1698,  1.0846],\n",
       "         [ 0.1698,  1.0846],\n",
       "         [-0.4246,  0.5392],\n",
       "         [-1.0451,  0.2271],\n",
       "         [ 0.5984,  0.0641],\n",
       "         [-0.3065,  0.7363],\n",
       "         [ 0.5563, -0.1821],\n",
       "         [ 1.3025, -0.3111],\n",
       "         [-0.4725,  0.9513],\n",
       "         [-0.4246,  0.5392]]))"
      ]
     },
     "execution_count": 56,
     "metadata": {},
     "output_type": "execute_result"
    }
   ],
   "source": [
    "unbind_opt"
   ]
  },
  {
   "cell_type": "code",
   "execution_count": 60,
   "metadata": {},
   "outputs": [
    {
     "data": {
      "text/plain": [
       "[tensor([[-1.0451,  0.2271],\n",
       "         [-1.0451,  0.2271],\n",
       "         [-1.0451,  0.2271],\n",
       "         [-0.2435, -0.5964],\n",
       "         [-2.4542,  1.6683],\n",
       "         [-1.0451,  0.2271],\n",
       "         [-1.0451,  0.2271],\n",
       "         [-1.0451,  0.2271],\n",
       "         [-0.3065,  0.7363],\n",
       "         [ 0.1698,  1.0846],\n",
       "         [-0.4725,  0.9513],\n",
       "         [-0.7261,  1.4174],\n",
       "         [-1.0451,  0.2271],\n",
       "         [-1.0451,  0.2271],\n",
       "         [-1.0451,  0.2271],\n",
       "         [-0.4246,  0.5392],\n",
       "         [-1.0451,  0.2271],\n",
       "         [-1.0451,  0.2271],\n",
       "         [-1.0451,  0.2271],\n",
       "         [-0.4725,  0.9513],\n",
       "         [ 0.5984,  0.0641],\n",
       "         [-0.4246,  0.5392],\n",
       "         [-0.5737, -0.8957],\n",
       "         [-0.2435, -0.5964],\n",
       "         [ 0.1698,  1.0846],\n",
       "         [-1.0451,  0.2271],\n",
       "         [-1.0451,  0.2271],\n",
       "         [-1.0451,  0.2271],\n",
       "         [ 0.5984,  0.0641],\n",
       "         [-0.3065,  0.7363],\n",
       "         [ 0.5563, -0.1821],\n",
       "         [ 1.3025, -0.3111]]),\n",
       " tensor([[-1.0451,  0.2271],\n",
       "         [-1.0451,  0.2271],\n",
       "         [-0.2435, -0.5964],\n",
       "         [-2.4542,  1.6683],\n",
       "         [-2.4542,  1.6683],\n",
       "         [-1.0451,  0.2271],\n",
       "         [-1.0451,  0.2271],\n",
       "         [-0.3065,  0.7363],\n",
       "         [ 0.1698,  1.0846],\n",
       "         [-0.4725,  0.9513],\n",
       "         [-0.7261,  1.4174],\n",
       "         [-0.4725,  0.9513],\n",
       "         [-1.0451,  0.2271],\n",
       "         [-1.0451,  0.2271],\n",
       "         [-0.4246,  0.5392],\n",
       "         [-0.7261,  1.4174],\n",
       "         [-1.0451,  0.2271],\n",
       "         [-1.0451,  0.2271],\n",
       "         [-0.4725,  0.9513],\n",
       "         [ 0.5984,  0.0641],\n",
       "         [-0.4246,  0.5392],\n",
       "         [-0.5737, -0.8957],\n",
       "         [-0.2435, -0.5964],\n",
       "         [ 0.1698,  1.0846],\n",
       "         [ 0.1698,  1.0846],\n",
       "         [-1.0451,  0.2271],\n",
       "         [-1.0451,  0.2271],\n",
       "         [ 0.5984,  0.0641],\n",
       "         [-0.3065,  0.7363],\n",
       "         [ 0.5563, -0.1821],\n",
       "         [ 1.3025, -0.3111],\n",
       "         [-0.4725,  0.9513]]),\n",
       " tensor([[-1.0451,  0.2271],\n",
       "         [-0.2435, -0.5964],\n",
       "         [-2.4542,  1.6683],\n",
       "         [-2.4542,  1.6683],\n",
       "         [-0.4246,  0.5392],\n",
       "         [-1.0451,  0.2271],\n",
       "         [-0.3065,  0.7363],\n",
       "         [ 0.1698,  1.0846],\n",
       "         [-0.4725,  0.9513],\n",
       "         [-0.7261,  1.4174],\n",
       "         [-0.4725,  0.9513],\n",
       "         [-0.4246,  0.5392],\n",
       "         [-1.0451,  0.2271],\n",
       "         [-0.4246,  0.5392],\n",
       "         [-0.7261,  1.4174],\n",
       "         [-0.4246,  0.5392],\n",
       "         [-1.0451,  0.2271],\n",
       "         [-0.4725,  0.9513],\n",
       "         [ 0.5984,  0.0641],\n",
       "         [-0.4246,  0.5392],\n",
       "         [-0.5737, -0.8957],\n",
       "         [-0.2435, -0.5964],\n",
       "         [ 0.1698,  1.0846],\n",
       "         [ 0.1698,  1.0846],\n",
       "         [-0.4246,  0.5392],\n",
       "         [-1.0451,  0.2271],\n",
       "         [ 0.5984,  0.0641],\n",
       "         [-0.3065,  0.7363],\n",
       "         [ 0.5563, -0.1821],\n",
       "         [ 1.3025, -0.3111],\n",
       "         [-0.4725,  0.9513],\n",
       "         [-0.4246,  0.5392]])]"
      ]
     },
     "execution_count": 60,
     "metadata": {},
     "output_type": "execute_result"
    }
   ],
   "source": [
    "([emb[:, 0, :], emb[:, 1, :], emb[:, 2, :]])"
   ]
  },
  {
   "cell_type": "code",
   "execution_count": 61,
   "metadata": {},
   "outputs": [
    {
     "data": {
      "text/plain": [
       "tensor([[-1.0451,  0.2271, -1.0451,  0.2271, -1.0451,  0.2271],\n",
       "        [-1.0451,  0.2271, -1.0451,  0.2271, -0.2435, -0.5964],\n",
       "        [-1.0451,  0.2271, -0.2435, -0.5964, -2.4542,  1.6683],\n",
       "        [-0.2435, -0.5964, -2.4542,  1.6683, -2.4542,  1.6683],\n",
       "        [-2.4542,  1.6683, -2.4542,  1.6683, -0.4246,  0.5392],\n",
       "        [-1.0451,  0.2271, -1.0451,  0.2271, -1.0451,  0.2271],\n",
       "        [-1.0451,  0.2271, -1.0451,  0.2271, -0.3065,  0.7363],\n",
       "        [-1.0451,  0.2271, -0.3065,  0.7363,  0.1698,  1.0846],\n",
       "        [-0.3065,  0.7363,  0.1698,  1.0846, -0.4725,  0.9513],\n",
       "        [ 0.1698,  1.0846, -0.4725,  0.9513, -0.7261,  1.4174],\n",
       "        [-0.4725,  0.9513, -0.7261,  1.4174, -0.4725,  0.9513],\n",
       "        [-0.7261,  1.4174, -0.4725,  0.9513, -0.4246,  0.5392],\n",
       "        [-1.0451,  0.2271, -1.0451,  0.2271, -1.0451,  0.2271],\n",
       "        [-1.0451,  0.2271, -1.0451,  0.2271, -0.4246,  0.5392],\n",
       "        [-1.0451,  0.2271, -0.4246,  0.5392, -0.7261,  1.4174],\n",
       "        [-0.4246,  0.5392, -0.7261,  1.4174, -0.4246,  0.5392],\n",
       "        [-1.0451,  0.2271, -1.0451,  0.2271, -1.0451,  0.2271],\n",
       "        [-1.0451,  0.2271, -1.0451,  0.2271, -0.4725,  0.9513],\n",
       "        [-1.0451,  0.2271, -0.4725,  0.9513,  0.5984,  0.0641],\n",
       "        [-0.4725,  0.9513,  0.5984,  0.0641, -0.4246,  0.5392],\n",
       "        [ 0.5984,  0.0641, -0.4246,  0.5392, -0.5737, -0.8957],\n",
       "        [-0.4246,  0.5392, -0.5737, -0.8957, -0.2435, -0.5964],\n",
       "        [-0.5737, -0.8957, -0.2435, -0.5964,  0.1698,  1.0846],\n",
       "        [-0.2435, -0.5964,  0.1698,  1.0846,  0.1698,  1.0846],\n",
       "        [ 0.1698,  1.0846,  0.1698,  1.0846, -0.4246,  0.5392],\n",
       "        [-1.0451,  0.2271, -1.0451,  0.2271, -1.0451,  0.2271],\n",
       "        [-1.0451,  0.2271, -1.0451,  0.2271,  0.5984,  0.0641],\n",
       "        [-1.0451,  0.2271,  0.5984,  0.0641, -0.3065,  0.7363],\n",
       "        [ 0.5984,  0.0641, -0.3065,  0.7363,  0.5563, -0.1821],\n",
       "        [-0.3065,  0.7363,  0.5563, -0.1821,  1.3025, -0.3111],\n",
       "        [ 0.5563, -0.1821,  1.3025, -0.3111, -0.4725,  0.9513],\n",
       "        [ 1.3025, -0.3111, -0.4725,  0.9513, -0.4246,  0.5392]])"
      ]
     },
     "execution_count": 61,
     "metadata": {},
     "output_type": "execute_result"
    }
   ],
   "source": [
    "torch.cat(unbind_opt,1)"
   ]
  },
  {
   "cell_type": "markdown",
   "metadata": {},
   "source": [
    "Even better way"
   ]
  },
  {
   "cell_type": "markdown",
   "metadata": {},
   "source": [
    "# Next time"
   ]
  },
  {
   "cell_type": "markdown",
   "metadata": {},
   "source": []
  }
 ],
 "metadata": {
  "kernelspec": {
   "display_name": "wavenet310",
   "language": "python",
   "name": "python3"
  },
  "language_info": {
   "codemirror_mode": {
    "name": "ipython",
    "version": 3
   },
   "file_extension": ".py",
   "mimetype": "text/x-python",
   "name": "python",
   "nbconvert_exporter": "python",
   "pygments_lexer": "ipython3",
   "version": "3.10.12"
  }
 },
 "nbformat": 4,
 "nbformat_minor": 2
}
